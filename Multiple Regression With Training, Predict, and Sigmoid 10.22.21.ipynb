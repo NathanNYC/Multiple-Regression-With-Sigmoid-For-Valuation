{
 "cells": [
  {
   "cell_type": "code",
   "execution_count": 13,
   "id": "e6df46b9",
   "metadata": {},
   "outputs": [
    {
     "name": "stdout",
     "output_type": "stream",
     "text": [
      "     Growth    Margin  Multiple\n",
      "0  0.060021  0.444928  2.647001\n",
      "1  0.339001  0.460445  5.664107\n",
      "2  0.052296  0.245183  2.724218\n",
      "3  0.058869  0.357670  2.262839\n",
      "4  0.043001  0.529047  9.247986\n",
      "     Growth    Margin  Multiple\n",
      "0  0.515001  0.609433  0.933826\n",
      "1  0.583948  0.613120  0.996544\n",
      "2  0.513071  0.560991  0.938441\n",
      "3  0.514713  0.588476  0.905752\n",
      "4  0.510749  0.629261  0.999904\n",
      "0.9055096310498407 0.5597136492671929\n",
      "[1.49425759]\n",
      "This is the final multiple 0     4.235588\n",
      "1     8.492989\n",
      "2     4.337710\n",
      "3     3.733101\n",
      "4    13.820204\n",
      "dtype: float64\n"
     ]
    }
   ],
   "source": [
    "import matplotlib.pyplot as plt\n",
    "import numpy as np\n",
    "import pandas as pd \n",
    "import sklearn.linear_model \n",
    "\n",
    "data=pd.read_csv('YourData.csv') \n",
    "\n",
    "pd.to_numeric(data['Growth'])\n",
    "pd.to_numeric(data['Margin'])\n",
    "pd.to_numeric(data['Multiple'])\n",
    "\n",
    "MeanMultiple1 = data[['Multiple']].mean(axis=1)\n",
    "\n",
    "def sigmoid (x):\n",
    "    z = 1/(1 + np.exp(-x))\n",
    "    return z \n",
    "\n",
    "data['Growth'] = data['Growth'].map(sigmoid)\n",
    "data['Margin'] = data['Margin'].map(sigmoid)\n",
    "data['Multiple'] = data['Multiple'].map(sigmoid)\n",
    "\n",
    "MeanMultiple2 = data[['Multiple']].mean(axis=1)\n",
    "\n",
    "earthGrowth=1/(1 + np.exp(-2.26))\n",
    "earthMargin=1/(1 + np.exp(-0.24))\n",
    "print(earthGrowth,earthMargin)\n",
    "\n",
    "x=data[['Growth','Margin']]\n",
    "y=data['Multiple']\n",
    "\n",
    "Multiplier=MeanMultiple1/MeanMultiple2\n",
    "\n",
    "#select model \n",
    "model = sklearn.linear_model.LinearRegression()\n",
    "\n",
    "#train\n",
    "model.fit(x,y)\n",
    "\n",
    "#predict \n",
    "X_new = [[2.26,0.24]]\n",
    "print(model.predict(X_new))\n",
    "\n",
    "final=Multiplier*model.predict(X_new)\n",
    "\n",
    "print(\"This is the final multiple: \",final)"
   ]
  }
 ],
 "metadata": {
  "kernelspec": {
   "display_name": "Python 3 (ipykernel)",
   "language": "python",
   "name": "python3"
  },
  "language_info": {
   "codemirror_mode": {
    "name": "ipython",
    "version": 3
   },
   "file_extension": ".py",
   "mimetype": "text/x-python",
   "name": "python",
   "nbconvert_exporter": "python",
   "pygments_lexer": "ipython3",
   "version": "3.9.5"
  }
 },
 "nbformat": 4,
 "nbformat_minor": 5
}
